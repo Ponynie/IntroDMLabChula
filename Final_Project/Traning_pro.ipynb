{
 "cells": [
  {
   "cell_type": "code",
   "execution_count": 11,
   "metadata": {},
   "outputs": [
    {
     "data": {
      "text/html": [
       "<div>\n",
       "<style scoped>\n",
       "    .dataframe tbody tr th:only-of-type {\n",
       "        vertical-align: middle;\n",
       "    }\n",
       "\n",
       "    .dataframe tbody tr th {\n",
       "        vertical-align: top;\n",
       "    }\n",
       "\n",
       "    .dataframe thead th {\n",
       "        text-align: right;\n",
       "    }\n",
       "</style>\n",
       "<table border=\"1\" class=\"dataframe\">\n",
       "  <thead>\n",
       "    <tr style=\"text-align: right;\">\n",
       "      <th></th>\n",
       "      <th>Age in 5-year groups</th>\n",
       "      <th>Type of place of residence</th>\n",
       "      <th>Highest educational level</th>\n",
       "      <th>Wealth index combined</th>\n",
       "      <th>Births in last five years</th>\n",
       "      <th>Age of respondent at 1st birth</th>\n",
       "      <th>Hemoglobin level adjusted for altitude and smoking (g/dl - 1 decimal)</th>\n",
       "      <th>Anemia level</th>\n",
       "      <th>Have mosquito bed net for sleeping (from household questionnaire)</th>\n",
       "      <th>Smokes cigarettes</th>\n",
       "      <th>Current marital status</th>\n",
       "      <th>Currently residing with husband/partner</th>\n",
       "      <th>Had fever in last two weeks</th>\n",
       "      <th>Taking iron pills, sprinkles or syrup</th>\n",
       "    </tr>\n",
       "  </thead>\n",
       "  <tbody>\n",
       "    <tr>\n",
       "      <th>3</th>\n",
       "      <td>27.0</td>\n",
       "      <td>Urban</td>\n",
       "      <td>Secondary</td>\n",
       "      <td>Richest</td>\n",
       "      <td>1</td>\n",
       "      <td>25</td>\n",
       "      <td>95.0</td>\n",
       "      <td>Moderate</td>\n",
       "      <td>Yes</td>\n",
       "      <td>No</td>\n",
       "      <td>Married</td>\n",
       "      <td>Living with her</td>\n",
       "      <td>No</td>\n",
       "      <td>No</td>\n",
       "    </tr>\n",
       "    <tr>\n",
       "      <th>6</th>\n",
       "      <td>37.0</td>\n",
       "      <td>Urban</td>\n",
       "      <td>Secondary</td>\n",
       "      <td>Richest</td>\n",
       "      <td>2</td>\n",
       "      <td>32</td>\n",
       "      <td>121.0</td>\n",
       "      <td>Not anemic</td>\n",
       "      <td>Yes</td>\n",
       "      <td>No</td>\n",
       "      <td>Married</td>\n",
       "      <td>Living with her</td>\n",
       "      <td>No</td>\n",
       "      <td>Yes</td>\n",
       "    </tr>\n",
       "    <tr>\n",
       "      <th>9</th>\n",
       "      <td>22.0</td>\n",
       "      <td>Urban</td>\n",
       "      <td>Secondary</td>\n",
       "      <td>Richest</td>\n",
       "      <td>1</td>\n",
       "      <td>19</td>\n",
       "      <td>108.0</td>\n",
       "      <td>Moderate</td>\n",
       "      <td>Yes</td>\n",
       "      <td>No</td>\n",
       "      <td>Married</td>\n",
       "      <td>Living with her</td>\n",
       "      <td>No</td>\n",
       "      <td>Yes</td>\n",
       "    </tr>\n",
       "    <tr>\n",
       "      <th>12</th>\n",
       "      <td>27.0</td>\n",
       "      <td>Urban</td>\n",
       "      <td>Higher</td>\n",
       "      <td>Richest</td>\n",
       "      <td>1</td>\n",
       "      <td>24</td>\n",
       "      <td>116.0</td>\n",
       "      <td>Mild</td>\n",
       "      <td>Yes</td>\n",
       "      <td>No</td>\n",
       "      <td>Married</td>\n",
       "      <td>Living with her</td>\n",
       "      <td>No</td>\n",
       "      <td>No</td>\n",
       "    </tr>\n",
       "    <tr>\n",
       "      <th>13</th>\n",
       "      <td>22.0</td>\n",
       "      <td>Urban</td>\n",
       "      <td>Higher</td>\n",
       "      <td>Richest</td>\n",
       "      <td>2</td>\n",
       "      <td>19</td>\n",
       "      <td>118.0</td>\n",
       "      <td>Mild</td>\n",
       "      <td>Yes</td>\n",
       "      <td>No</td>\n",
       "      <td>Married</td>\n",
       "      <td>Living with her</td>\n",
       "      <td>No</td>\n",
       "      <td>Yes</td>\n",
       "    </tr>\n",
       "    <tr>\n",
       "      <th>16</th>\n",
       "      <td>27.0</td>\n",
       "      <td>Urban</td>\n",
       "      <td>Higher</td>\n",
       "      <td>Richest</td>\n",
       "      <td>2</td>\n",
       "      <td>22</td>\n",
       "      <td>134.0</td>\n",
       "      <td>Not anemic</td>\n",
       "      <td>Yes</td>\n",
       "      <td>No</td>\n",
       "      <td>Married</td>\n",
       "      <td>Living with her</td>\n",
       "      <td>No</td>\n",
       "      <td>No</td>\n",
       "    </tr>\n",
       "    <tr>\n",
       "      <th>18</th>\n",
       "      <td>27.0</td>\n",
       "      <td>Urban</td>\n",
       "      <td>Secondary</td>\n",
       "      <td>Richest</td>\n",
       "      <td>2</td>\n",
       "      <td>22</td>\n",
       "      <td>95.0</td>\n",
       "      <td>Moderate</td>\n",
       "      <td>Yes</td>\n",
       "      <td>No</td>\n",
       "      <td>Married</td>\n",
       "      <td>Living with her</td>\n",
       "      <td>No</td>\n",
       "      <td>Yes</td>\n",
       "    </tr>\n",
       "    <tr>\n",
       "      <th>21</th>\n",
       "      <td>27.0</td>\n",
       "      <td>Urban</td>\n",
       "      <td>Secondary</td>\n",
       "      <td>Richer</td>\n",
       "      <td>1</td>\n",
       "      <td>23</td>\n",
       "      <td>109.0</td>\n",
       "      <td>Mild</td>\n",
       "      <td>Yes</td>\n",
       "      <td>No</td>\n",
       "      <td>Married</td>\n",
       "      <td>Living with her</td>\n",
       "      <td>No</td>\n",
       "      <td>No</td>\n",
       "    </tr>\n",
       "    <tr>\n",
       "      <th>22</th>\n",
       "      <td>27.0</td>\n",
       "      <td>Urban</td>\n",
       "      <td>Secondary</td>\n",
       "      <td>Richer</td>\n",
       "      <td>2</td>\n",
       "      <td>20</td>\n",
       "      <td>101.0</td>\n",
       "      <td>Mild</td>\n",
       "      <td>Yes</td>\n",
       "      <td>No</td>\n",
       "      <td>Married</td>\n",
       "      <td>Living with her</td>\n",
       "      <td>No</td>\n",
       "      <td>Yes</td>\n",
       "    </tr>\n",
       "    <tr>\n",
       "      <th>25</th>\n",
       "      <td>27.0</td>\n",
       "      <td>Urban</td>\n",
       "      <td>Secondary</td>\n",
       "      <td>Richer</td>\n",
       "      <td>2</td>\n",
       "      <td>20</td>\n",
       "      <td>129.0</td>\n",
       "      <td>Not anemic</td>\n",
       "      <td>Yes</td>\n",
       "      <td>No</td>\n",
       "      <td>Married</td>\n",
       "      <td>Staying elsewhere</td>\n",
       "      <td>No</td>\n",
       "      <td>No</td>\n",
       "    </tr>\n",
       "  </tbody>\n",
       "</table>\n",
       "</div>"
      ],
      "text/plain": [
       "    Age in 5-year groups Type of place of residence Highest educational level  \\\n",
       "3                   27.0                      Urban                 Secondary   \n",
       "6                   37.0                      Urban                 Secondary   \n",
       "9                   22.0                      Urban                 Secondary   \n",
       "12                  27.0                      Urban                    Higher   \n",
       "13                  22.0                      Urban                    Higher   \n",
       "16                  27.0                      Urban                    Higher   \n",
       "18                  27.0                      Urban                 Secondary   \n",
       "21                  27.0                      Urban                 Secondary   \n",
       "22                  27.0                      Urban                 Secondary   \n",
       "25                  27.0                      Urban                 Secondary   \n",
       "\n",
       "   Wealth index combined  Births in last five years  \\\n",
       "3                Richest                          1   \n",
       "6                Richest                          2   \n",
       "9                Richest                          1   \n",
       "12               Richest                          1   \n",
       "13               Richest                          2   \n",
       "16               Richest                          2   \n",
       "18               Richest                          2   \n",
       "21                Richer                          1   \n",
       "22                Richer                          2   \n",
       "25                Richer                          2   \n",
       "\n",
       "    Age of respondent at 1st birth  \\\n",
       "3                               25   \n",
       "6                               32   \n",
       "9                               19   \n",
       "12                              24   \n",
       "13                              19   \n",
       "16                              22   \n",
       "18                              22   \n",
       "21                              23   \n",
       "22                              20   \n",
       "25                              20   \n",
       "\n",
       "    Hemoglobin level adjusted for altitude and smoking (g/dl - 1 decimal)  \\\n",
       "3                                                95.0                       \n",
       "6                                               121.0                       \n",
       "9                                               108.0                       \n",
       "12                                              116.0                       \n",
       "13                                              118.0                       \n",
       "16                                              134.0                       \n",
       "18                                               95.0                       \n",
       "21                                              109.0                       \n",
       "22                                              101.0                       \n",
       "25                                              129.0                       \n",
       "\n",
       "   Anemia level  \\\n",
       "3      Moderate   \n",
       "6    Not anemic   \n",
       "9      Moderate   \n",
       "12         Mild   \n",
       "13         Mild   \n",
       "16   Not anemic   \n",
       "18     Moderate   \n",
       "21         Mild   \n",
       "22         Mild   \n",
       "25   Not anemic   \n",
       "\n",
       "   Have mosquito bed net for sleeping (from household questionnaire)  \\\n",
       "3                                                 Yes                  \n",
       "6                                                 Yes                  \n",
       "9                                                 Yes                  \n",
       "12                                                Yes                  \n",
       "13                                                Yes                  \n",
       "16                                                Yes                  \n",
       "18                                                Yes                  \n",
       "21                                                Yes                  \n",
       "22                                                Yes                  \n",
       "25                                                Yes                  \n",
       "\n",
       "   Smokes cigarettes Current marital status  \\\n",
       "3                 No                Married   \n",
       "6                 No                Married   \n",
       "9                 No                Married   \n",
       "12                No                Married   \n",
       "13                No                Married   \n",
       "16                No                Married   \n",
       "18                No                Married   \n",
       "21                No                Married   \n",
       "22                No                Married   \n",
       "25                No                Married   \n",
       "\n",
       "   Currently residing with husband/partner Had fever in last two weeks  \\\n",
       "3                          Living with her                          No   \n",
       "6                          Living with her                          No   \n",
       "9                          Living with her                          No   \n",
       "12                         Living with her                          No   \n",
       "13                         Living with her                          No   \n",
       "16                         Living with her                          No   \n",
       "18                         Living with her                          No   \n",
       "21                         Living with her                          No   \n",
       "22                         Living with her                          No   \n",
       "25                       Staying elsewhere                          No   \n",
       "\n",
       "   Taking iron pills, sprinkles or syrup  \n",
       "3                                     No  \n",
       "6                                    Yes  \n",
       "9                                    Yes  \n",
       "12                                    No  \n",
       "13                                   Yes  \n",
       "16                                    No  \n",
       "18                                   Yes  \n",
       "21                                    No  \n",
       "22                                   Yes  \n",
       "25                                    No  "
      ]
     },
     "execution_count": 11,
     "metadata": {},
     "output_type": "execute_result"
    }
   ],
   "source": [
    "import torch\n",
    "from torch.utils.data import DataLoader, TensorDataset\n",
    "import torch.nn.init as init\n",
    "\n",
    "import torch.nn as nn\n",
    "import torch.optim as optim\n",
    "import numpy as np\n",
    "import pandas as pd\n",
    "import matplotlib.pyplot as plt\n",
    "import seaborn as sns\n",
    "%matplotlib inline\n",
    "\n",
    "data = pd.read_csv('/Users/ponynie/Developer/Python_Code/IntroDMLabChula/Final_Project/children anemia.csv')\n",
    "data.drop('Anemia level.1', axis=1, inplace=True)\n",
    "data.dropna(subset=['Anemia level','When child put to breast','Had fever in last two weeks','Taking iron pills, sprinkles or syrup'],inplace=True)\n",
    "data['Currently residing with husband/partner'] = data['Currently residing with husband/partner'].fillna(data['Currently residing with husband/partner'].median)\n",
    "\n",
    "data['Hemoglobin level adjusted for altitude (g/dl - 1 decimal)'] = data['Hemoglobin level adjusted for altitude (g/dl - 1 decimal)'].fillna(data['Hemoglobin level adjusted for altitude (g/dl - 1 decimal)'].mean)\n",
    "data['Age in 5-year groups'] = data['Age in 5-year groups'].apply(lambda x: sum(map(int,x.split('-')))/2)\n",
    "data.drop(columns=['When child put to breast', 'Hemoglobin level adjusted for altitude (g/dl - 1 decimal)'],inplace=True)\n",
    "data = data[data['Currently residing with husband/partner'].isin(['Living with her', 'Staying elsewhere'])]\n",
    "data = data[data['Had fever in last two weeks'].isin(['No', 'Yes'])]\n",
    "data = data[data['Taking iron pills, sprinkles or syrup'].isin(['No', 'Yes'])]\n",
    "\n",
    "data.head(10)"
   ]
  },
  {
   "cell_type": "code",
   "execution_count": 12,
   "metadata": {},
   "outputs": [
    {
     "name": "stdout",
     "output_type": "stream",
     "text": [
      "Index(['Living with partner', 'Married'], dtype='object') Current marital status\n",
      "Index(['Rural', 'Urban'], dtype='object') Type of place of residence\n",
      "Index(['Higher', 'No education', 'Primary', 'Secondary'], dtype='object') Highest educational level\n",
      "Index(['Middle', 'Poorer', 'Poorest', 'Richer', 'Richest'], dtype='object') Wealth index combined\n",
      "Index(['No', 'Yes'], dtype='object') Have mosquito bed net for sleeping (from household questionnaire)\n",
      "Index(['No', 'Yes'], dtype='object') Smokes cigarettes\n",
      "Index(['Living with her', 'Staying elsewhere'], dtype='object') Currently residing with husband/partner\n",
      "Index(['No', 'Yes'], dtype='object') Had fever in last two weeks\n",
      "Index(['No', 'Yes'], dtype='object') Taking iron pills, sprinkles or syrup\n",
      "Index(['Mild', 'Moderate', 'Not anemic', 'Severe'], dtype='object') Label\n"
     ]
    }
   ],
   "source": [
    "categorical_columns = ['Current marital status', 'Type of place of residence', 'Highest educational level', 'Wealth index combined', 'Have mosquito bed net for sleeping (from household questionnaire)', 'Smokes cigarettes', 'Currently residing with husband/partner', 'Had fever in last two weeks', 'Taking iron pills, sprinkles or syrup']\n",
    "numerical_columns = ['Age in 5-year groups', 'Births in last five years', 'Age of respondent at 1st birth', 'Hemoglobin level adjusted for altitude and smoking (g/dl - 1 decimal)']\n",
    "label_columns = 'Anemia level'\n",
    "\n",
    "for category in categorical_columns:\n",
    "    data[category] = data[category].astype('category')\n",
    "data['Anemia level'] = data['Anemia level'].astype('category')\n",
    "\n",
    "for categorical in categorical_columns:\n",
    "    print(data[categorical].cat.categories, categorical)\n",
    "print(data['Anemia level'].cat.categories, \"Label\")"
   ]
  },
  {
   "cell_type": "code",
   "execution_count": 13,
   "metadata": {},
   "outputs": [
    {
     "data": {
      "text/plain": [
       "array([[1, 1, 3, 4, 1, 0, 0, 0, 0],\n",
       "       [1, 1, 3, 4, 1, 0, 0, 0, 1],\n",
       "       [1, 1, 3, 4, 1, 0, 0, 0, 1],\n",
       "       [1, 1, 0, 4, 1, 0, 0, 0, 0],\n",
       "       [1, 1, 0, 4, 1, 0, 0, 0, 1],\n",
       "       [1, 1, 0, 4, 1, 0, 0, 0, 0],\n",
       "       [1, 1, 3, 4, 1, 0, 0, 0, 1],\n",
       "       [1, 1, 3, 3, 1, 0, 0, 0, 0],\n",
       "       [1, 1, 3, 3, 1, 0, 0, 0, 1],\n",
       "       [1, 1, 3, 3, 1, 0, 1, 0, 0]], dtype=int8)"
      ]
     },
     "execution_count": 13,
     "metadata": {},
     "output_type": "execute_result"
    }
   ],
   "source": [
    "categorical_np = [data[i].cat.codes.values for i in categorical_columns]\n",
    "categorical_data = np.stack(categorical_np, 1)\n",
    "categorical_data[:10]"
   ]
  },
  {
   "cell_type": "code",
   "execution_count": 14,
   "metadata": {},
   "outputs": [
    {
     "data": {
      "text/plain": [
       "tensor([[1, 1, 3, 4, 1, 0, 0, 0, 0],\n",
       "        [1, 1, 3, 4, 1, 0, 0, 0, 1],\n",
       "        [1, 1, 3, 4, 1, 0, 0, 0, 1],\n",
       "        [1, 1, 0, 4, 1, 0, 0, 0, 0],\n",
       "        [1, 1, 0, 4, 1, 0, 0, 0, 1],\n",
       "        [1, 1, 0, 4, 1, 0, 0, 0, 0],\n",
       "        [1, 1, 3, 4, 1, 0, 0, 0, 1],\n",
       "        [1, 1, 3, 3, 1, 0, 0, 0, 0],\n",
       "        [1, 1, 3, 3, 1, 0, 0, 0, 1],\n",
       "        [1, 1, 3, 3, 1, 0, 1, 0, 0]])"
      ]
     },
     "execution_count": 14,
     "metadata": {},
     "output_type": "execute_result"
    }
   ],
   "source": [
    "categorical_data = torch.tensor(categorical_data, dtype=torch.int64)\n",
    "categorical_data[:10]"
   ]
  },
  {
   "cell_type": "code",
   "execution_count": 15,
   "metadata": {},
   "outputs": [
    {
     "data": {
      "text/plain": [
       "tensor([[ 27.,   1.,  25.,  95.],\n",
       "        [ 37.,   2.,  32., 121.],\n",
       "        [ 22.,   1.,  19., 108.],\n",
       "        [ 27.,   1.,  24., 116.],\n",
       "        [ 22.,   2.,  19., 118.],\n",
       "        [ 27.,   2.,  22., 134.],\n",
       "        [ 27.,   2.,  22.,  95.],\n",
       "        [ 27.,   1.,  23., 109.],\n",
       "        [ 27.,   2.,  20., 101.],\n",
       "        [ 27.,   2.,  20., 129.]])"
      ]
     },
     "execution_count": 15,
     "metadata": {},
     "output_type": "execute_result"
    }
   ],
   "source": [
    "numerical_data = np.stack([data[i].values for i in numerical_columns], 1)\n",
    "numerical_data = torch.tensor(numerical_data, dtype=torch.float)\n",
    "numerical_data[:10]"
   ]
  },
  {
   "cell_type": "code",
   "execution_count": 16,
   "metadata": {},
   "outputs": [
    {
     "data": {
      "text/plain": [
       "tensor([1, 2, 1, 0, 0, 2, 1, 0, 0, 2], dtype=torch.int8)"
      ]
     },
     "execution_count": 16,
     "metadata": {},
     "output_type": "execute_result"
    }
   ],
   "source": [
    "outputs = torch.tensor(data['Anemia level'].cat.codes.values).flatten()\n",
    "outputs[:10]"
   ]
  },
  {
   "cell_type": "code",
   "execution_count": 17,
   "metadata": {},
   "outputs": [
    {
     "data": {
      "text/plain": [
       "(torch.Size([7237, 9]), torch.Size([7237, 4]), torch.Size([7237]))"
      ]
     },
     "execution_count": 17,
     "metadata": {},
     "output_type": "execute_result"
    }
   ],
   "source": [
    "categorical_data.shape, numerical_data.shape, outputs.shape"
   ]
  },
  {
   "cell_type": "code",
   "execution_count": 18,
   "metadata": {},
   "outputs": [
    {
     "name": "stdout",
     "output_type": "stream",
     "text": [
      "[(2, 1), (2, 1), (4, 2), (5, 3), (2, 1), (2, 1), (2, 1), (2, 1), (2, 1)]\n"
     ]
    }
   ],
   "source": [
    "categorical_column_sizes = [len(data[column].cat.categories) for column in categorical_columns]\n",
    "categorical_embedding_sizes = [(col_size, min(50, (col_size+1)//2)) for col_size in categorical_column_sizes]\n",
    "print(categorical_embedding_sizes)"
   ]
  },
  {
   "cell_type": "code",
   "execution_count": 19,
   "metadata": {},
   "outputs": [
    {
     "name": "stdout",
     "output_type": "stream",
     "text": [
      "torch.Size([5790, 9]) torch.Size([1447, 9])\n",
      "torch.Size([5790, 4]) torch.Size([1447, 4])\n",
      "torch.Size([5790]) torch.Size([1447])\n"
     ]
    }
   ],
   "source": [
    "total_records = data.shape[0]\n",
    "test_records = int(total_records * .2) # 20% of the data for testing\n",
    "train_records = total_records - test_records # 80% of the data for training\n",
    "\n",
    "categorical_train_data = categorical_data[:train_records]\n",
    "categorical_test_data = categorical_data[train_records:]\n",
    "numerical_train_data = numerical_data[:train_records]\n",
    "numerical_test_data = numerical_data[train_records:]\n",
    "train_label = outputs[:train_records]\n",
    "test_label = outputs[train_records:]\n",
    "\n",
    "print(categorical_train_data.shape, categorical_test_data.shape)\n",
    "print(numerical_train_data.shape, numerical_test_data.shape)\n",
    "print(train_label.shape, test_label.shape)"
   ]
  },
  {
   "cell_type": "code",
   "execution_count": 208,
   "metadata": {},
   "outputs": [],
   "source": [
    "class Model(nn.Module):\n",
    "\n",
    "    def __init__(self, embedding_size, num_numerical_cols, output_size, layers, p=0.4):\n",
    "        super().__init__()\n",
    "        self.all_embeddings = nn.ModuleList([nn.Embedding(ni, nf) for ni, nf in embedding_size])\n",
    "        self.embedding_dropout = nn.Dropout(p)\n",
    "        self.batch_norm_num = nn.BatchNorm1d(num_numerical_cols)\n",
    "\n",
    "        all_layers = []\n",
    "        num_categorical_cols = sum((nf for ni, nf in embedding_size))\n",
    "        input_size = num_categorical_cols + num_numerical_cols\n",
    "\n",
    "        for i in layers:\n",
    "            all_layers.append(nn.Linear(input_size, i))\n",
    "            all_layers.append(nn.ReLU(inplace=True))\n",
    "            all_layers.append(nn.BatchNorm1d(i))\n",
    "            all_layers.append(nn.Dropout(p))\n",
    "            input_size = i\n",
    "\n",
    "        all_layers.append(nn.Linear(layers[-1], output_size))\n",
    "\n",
    "        self.layers = nn.Sequential(*all_layers)\n",
    "\n",
    "    def forward(self, x_categorical, x_numerical):\n",
    "        embeddings = []\n",
    "        for i,e in enumerate(self.all_embeddings):\n",
    "            embeddings.append(e(x_categorical[:,i]))\n",
    "        x = torch.cat(embeddings, 1)\n",
    "        x = self.embedding_dropout(x)\n",
    "\n",
    "        x_numerical = self.batch_norm_num(x_numerical)\n",
    "        x = torch.cat([x, x_numerical], 1)\n",
    "        x = self.layers(x)\n",
    "        return x"
   ]
  },
  {
   "cell_type": "code",
   "execution_count": 20,
   "metadata": {},
   "outputs": [
    {
     "ename": "NameError",
     "evalue": "name 'Model' is not defined",
     "output_type": "error",
     "traceback": [
      "\u001b[0;31m---------------------------------------------------------------------------\u001b[0m",
      "\u001b[0;31mNameError\u001b[0m                                 Traceback (most recent call last)",
      "Cell \u001b[0;32mIn[20], line 2\u001b[0m\n\u001b[1;32m      1\u001b[0m hidden_layers \u001b[38;5;241m=\u001b[39m [\u001b[38;5;241m200\u001b[39m,\u001b[38;5;241m100\u001b[39m,\u001b[38;5;241m50\u001b[39m]\n\u001b[0;32m----> 2\u001b[0m model \u001b[38;5;241m=\u001b[39m \u001b[43mModel\u001b[49m(categorical_embedding_sizes, numerical_data\u001b[38;5;241m.\u001b[39mshape[\u001b[38;5;241m1\u001b[39m], \u001b[38;5;241m4\u001b[39m, hidden_layers, p\u001b[38;5;241m=\u001b[39m\u001b[38;5;241m0.4\u001b[39m)\n\u001b[1;32m      3\u001b[0m \u001b[38;5;28mprint\u001b[39m(model)\n",
      "\u001b[0;31mNameError\u001b[0m: name 'Model' is not defined"
     ]
    }
   ],
   "source": [
    "hidden_layers = [200,100,50]\n",
    "model = Model(categorical_embedding_sizes, numerical_data.shape[1], 4, hidden_layers, p=0.4)\n",
    "print(model)"
   ]
  },
  {
   "cell_type": "code",
   "execution_count": null,
   "metadata": {},
   "outputs": [],
   "source": [
    "if torch.backends.mps.is_available():\n",
    "    print (\"MPS device found.\")\n",
    "else:\n",
    "    print(\"MPS device not found.\")\n",
    "\n",
    "mps_device = torch.device(\"mps\" if torch.backends.mps.is_available() else \"cpu\")\n",
    "\n",
    "model.to(mps_device)\n",
    "categorical_train_data = categorical_train_data.to(mps_device)\n",
    "numerical_train_data = numerical_train_data.to(mps_device)\n",
    "categorical_test_data = categorical_test_data.to(mps_device)\n",
    "numerical_test_data = numerical_test_data.to(mps_device)\n",
    "train_label = train_label.to(mps_device)\n",
    "test_label = test_label.to(mps_device)  "
   ]
  },
  {
   "cell_type": "code",
   "execution_count": null,
   "metadata": {},
   "outputs": [],
   "source": [
    "loss_function = nn.CrossEntropyLoss()\n",
    "optimizer = torch.optim.Adam(model.parameters(), lr=0.001)\n",
    "epochs = 300"
   ]
  },
  {
   "cell_type": "code",
   "execution_count": null,
   "metadata": {},
   "outputs": [],
   "source": [
    "aggregated_losses = []\n",
    "\n",
    "for i in range(epochs):\n",
    "    i += 1\n",
    "    pred = model(categorical_train_data, numerical_train_data)\n",
    "    single_loss = loss_function(pred, train_label)\n",
    "    aggregated_losses.append(single_loss)\n",
    "\n",
    "    if i%25 == 1:\n",
    "        print(f'epoch: {i:3} loss: {single_loss.item():10.8f}')\n",
    "\n",
    "    optimizer.zero_grad()\n",
    "    single_loss.backward()\n",
    "    optimizer.step()\n",
    "print(f'epoch: {i:3} loss: {single_loss.item():10.10f}')\n",
    "\n",
    "aggregated_losses_on_cpu = [tensor.detach().cpu() for tensor in aggregated_losses]\n",
    "plt.plot(range(epochs), aggregated_losses_on_cpu)\n",
    "plt.title('Training Loss Over Epochs')\n",
    "plt.xlabel('Epoch')\n",
    "plt.ylabel('Loss')\n",
    "plt.show()"
   ]
  },
  {
   "cell_type": "code",
   "execution_count": null,
   "metadata": {},
   "outputs": [],
   "source": [
    "with torch.no_grad():\n",
    "    eval = model(categorical_test_data, numerical_test_data)\n",
    "    loss = loss_function(eval, test_label)\n",
    "print(f'Loss: {loss:.8f}')"
   ]
  },
  {
   "cell_type": "code",
   "execution_count": null,
   "metadata": {},
   "outputs": [],
   "source": [
    "print(eval[:5])\n",
    "eval = np.argmax(eval.detach().cpu(), axis=1)\n",
    "print(eval[:5])"
   ]
  },
  {
   "cell_type": "code",
   "execution_count": null,
   "metadata": {},
   "outputs": [],
   "source": [
    "from sklearn.metrics import classification_report, confusion_matrix, accuracy_score\n",
    "test_label = test_label.detach().cpu()\n",
    "print(confusion_matrix(test_label,eval))\n",
    "print(\"--------------------------------------------------------------------------------\")\n",
    "print(classification_report(test_label,eval))\n",
    "print(\"--------------------------------------------------------------------------------\")\n",
    "print(f\"accuracy: {accuracy_score(test_label, eval)*100} %\")"
   ]
  }
 ],
 "metadata": {
  "kernelspec": {
   "display_name": ".venv",
   "language": "python",
   "name": "python3"
  },
  "language_info": {
   "codemirror_mode": {
    "name": "ipython",
    "version": 3
   },
   "file_extension": ".py",
   "mimetype": "text/x-python",
   "name": "python",
   "nbconvert_exporter": "python",
   "pygments_lexer": "ipython3",
   "version": "3.10.8"
  }
 },
 "nbformat": 4,
 "nbformat_minor": 2
}
