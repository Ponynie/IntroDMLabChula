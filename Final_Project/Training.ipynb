{
 "cells": [
  {
   "cell_type": "markdown",
   "metadata": {},
   "source": [
    "## Data preprocessing"
   ]
  },
  {
   "cell_type": "markdown",
   "metadata": {},
   "source": [
    "### drop unnescessary columns"
   ]
  },
  {
   "cell_type": "code",
   "execution_count": 42,
   "metadata": {},
   "outputs": [
    {
     "data": {
      "text/html": [
       "<div>\n",
       "<style scoped>\n",
       "    .dataframe tbody tr th:only-of-type {\n",
       "        vertical-align: middle;\n",
       "    }\n",
       "\n",
       "    .dataframe tbody tr th {\n",
       "        vertical-align: top;\n",
       "    }\n",
       "\n",
       "    .dataframe thead th {\n",
       "        text-align: right;\n",
       "    }\n",
       "</style>\n",
       "<table border=\"1\" class=\"dataframe\">\n",
       "  <thead>\n",
       "    <tr style=\"text-align: right;\">\n",
       "      <th></th>\n",
       "      <th>Age in 5-year groups</th>\n",
       "      <th>Type of place of residence</th>\n",
       "      <th>Highest educational level</th>\n",
       "      <th>Wealth index combined</th>\n",
       "      <th>Births in last five years</th>\n",
       "      <th>Age of respondent at 1st birth</th>\n",
       "      <th>Anemia level</th>\n",
       "      <th>Have mosquito bed net for sleeping (from household questionnaire)</th>\n",
       "      <th>Smokes cigarettes</th>\n",
       "      <th>Currently residing with husband/partner</th>\n",
       "      <th>Had fever in last two weeks</th>\n",
       "      <th>Hemoglobin level adjusted for altitude (g/dl - 1 decimal)</th>\n",
       "      <th>Taking iron pills, sprinkles or syrup</th>\n",
       "    </tr>\n",
       "  </thead>\n",
       "  <tbody>\n",
       "    <tr>\n",
       "      <th>3</th>\n",
       "      <td>27.0</td>\n",
       "      <td>Urban</td>\n",
       "      <td>Secondary</td>\n",
       "      <td>Richest</td>\n",
       "      <td>1</td>\n",
       "      <td>25</td>\n",
       "      <td>Moderate</td>\n",
       "      <td>Yes</td>\n",
       "      <td>No</td>\n",
       "      <td>Living with her</td>\n",
       "      <td>No</td>\n",
       "      <td>114.0</td>\n",
       "      <td>No</td>\n",
       "    </tr>\n",
       "    <tr>\n",
       "      <th>6</th>\n",
       "      <td>37.0</td>\n",
       "      <td>Urban</td>\n",
       "      <td>Secondary</td>\n",
       "      <td>Richest</td>\n",
       "      <td>2</td>\n",
       "      <td>32</td>\n",
       "      <td>Not anemic</td>\n",
       "      <td>Yes</td>\n",
       "      <td>No</td>\n",
       "      <td>Living with her</td>\n",
       "      <td>No</td>\n",
       "      <td>102.0</td>\n",
       "      <td>Yes</td>\n",
       "    </tr>\n",
       "    <tr>\n",
       "      <th>9</th>\n",
       "      <td>22.0</td>\n",
       "      <td>Urban</td>\n",
       "      <td>Secondary</td>\n",
       "      <td>Richest</td>\n",
       "      <td>1</td>\n",
       "      <td>19</td>\n",
       "      <td>Moderate</td>\n",
       "      <td>Yes</td>\n",
       "      <td>No</td>\n",
       "      <td>Living with her</td>\n",
       "      <td>No</td>\n",
       "      <td>113.0</td>\n",
       "      <td>Yes</td>\n",
       "    </tr>\n",
       "    <tr>\n",
       "      <th>12</th>\n",
       "      <td>27.0</td>\n",
       "      <td>Urban</td>\n",
       "      <td>Higher</td>\n",
       "      <td>Richest</td>\n",
       "      <td>1</td>\n",
       "      <td>24</td>\n",
       "      <td>Mild</td>\n",
       "      <td>Yes</td>\n",
       "      <td>No</td>\n",
       "      <td>Living with her</td>\n",
       "      <td>No</td>\n",
       "      <td>109.0</td>\n",
       "      <td>No</td>\n",
       "    </tr>\n",
       "    <tr>\n",
       "      <th>13</th>\n",
       "      <td>22.0</td>\n",
       "      <td>Urban</td>\n",
       "      <td>Higher</td>\n",
       "      <td>Richest</td>\n",
       "      <td>2</td>\n",
       "      <td>19</td>\n",
       "      <td>Mild</td>\n",
       "      <td>Yes</td>\n",
       "      <td>No</td>\n",
       "      <td>Living with her</td>\n",
       "      <td>No</td>\n",
       "      <td>96.0</td>\n",
       "      <td>Yes</td>\n",
       "    </tr>\n",
       "    <tr>\n",
       "      <th>18</th>\n",
       "      <td>27.0</td>\n",
       "      <td>Urban</td>\n",
       "      <td>Secondary</td>\n",
       "      <td>Richest</td>\n",
       "      <td>2</td>\n",
       "      <td>22</td>\n",
       "      <td>Moderate</td>\n",
       "      <td>Yes</td>\n",
       "      <td>No</td>\n",
       "      <td>Living with her</td>\n",
       "      <td>No</td>\n",
       "      <td>96.0</td>\n",
       "      <td>Yes</td>\n",
       "    </tr>\n",
       "    <tr>\n",
       "      <th>21</th>\n",
       "      <td>27.0</td>\n",
       "      <td>Urban</td>\n",
       "      <td>Secondary</td>\n",
       "      <td>Richer</td>\n",
       "      <td>1</td>\n",
       "      <td>23</td>\n",
       "      <td>Mild</td>\n",
       "      <td>Yes</td>\n",
       "      <td>No</td>\n",
       "      <td>Living with her</td>\n",
       "      <td>No</td>\n",
       "      <td>96.0</td>\n",
       "      <td>No</td>\n",
       "    </tr>\n",
       "    <tr>\n",
       "      <th>22</th>\n",
       "      <td>27.0</td>\n",
       "      <td>Urban</td>\n",
       "      <td>Secondary</td>\n",
       "      <td>Richer</td>\n",
       "      <td>2</td>\n",
       "      <td>20</td>\n",
       "      <td>Mild</td>\n",
       "      <td>Yes</td>\n",
       "      <td>No</td>\n",
       "      <td>Living with her</td>\n",
       "      <td>No</td>\n",
       "      <td>115.0</td>\n",
       "      <td>Yes</td>\n",
       "    </tr>\n",
       "    <tr>\n",
       "      <th>25</th>\n",
       "      <td>27.0</td>\n",
       "      <td>Urban</td>\n",
       "      <td>Secondary</td>\n",
       "      <td>Richer</td>\n",
       "      <td>2</td>\n",
       "      <td>20</td>\n",
       "      <td>Not anemic</td>\n",
       "      <td>Yes</td>\n",
       "      <td>No</td>\n",
       "      <td>Staying elsewhere</td>\n",
       "      <td>No</td>\n",
       "      <td>110.0</td>\n",
       "      <td>No</td>\n",
       "    </tr>\n",
       "    <tr>\n",
       "      <th>36</th>\n",
       "      <td>32.0</td>\n",
       "      <td>Urban</td>\n",
       "      <td>No education</td>\n",
       "      <td>Richest</td>\n",
       "      <td>3</td>\n",
       "      <td>25</td>\n",
       "      <td>Not anemic</td>\n",
       "      <td>Yes</td>\n",
       "      <td>No</td>\n",
       "      <td>Living with her</td>\n",
       "      <td>No</td>\n",
       "      <td>138.0</td>\n",
       "      <td>No</td>\n",
       "    </tr>\n",
       "  </tbody>\n",
       "</table>\n",
       "</div>"
      ],
      "text/plain": [
       "    Age in 5-year groups Type of place of residence Highest educational level  \\\n",
       "3                   27.0                      Urban                 Secondary   \n",
       "6                   37.0                      Urban                 Secondary   \n",
       "9                   22.0                      Urban                 Secondary   \n",
       "12                  27.0                      Urban                    Higher   \n",
       "13                  22.0                      Urban                    Higher   \n",
       "18                  27.0                      Urban                 Secondary   \n",
       "21                  27.0                      Urban                 Secondary   \n",
       "22                  27.0                      Urban                 Secondary   \n",
       "25                  27.0                      Urban                 Secondary   \n",
       "36                  32.0                      Urban              No education   \n",
       "\n",
       "   Wealth index combined  Births in last five years  \\\n",
       "3                Richest                          1   \n",
       "6                Richest                          2   \n",
       "9                Richest                          1   \n",
       "12               Richest                          1   \n",
       "13               Richest                          2   \n",
       "18               Richest                          2   \n",
       "21                Richer                          1   \n",
       "22                Richer                          2   \n",
       "25                Richer                          2   \n",
       "36               Richest                          3   \n",
       "\n",
       "    Age of respondent at 1st birth Anemia level  \\\n",
       "3                               25     Moderate   \n",
       "6                               32   Not anemic   \n",
       "9                               19     Moderate   \n",
       "12                              24         Mild   \n",
       "13                              19         Mild   \n",
       "18                              22     Moderate   \n",
       "21                              23         Mild   \n",
       "22                              20         Mild   \n",
       "25                              20   Not anemic   \n",
       "36                              25   Not anemic   \n",
       "\n",
       "   Have mosquito bed net for sleeping (from household questionnaire)  \\\n",
       "3                                                 Yes                  \n",
       "6                                                 Yes                  \n",
       "9                                                 Yes                  \n",
       "12                                                Yes                  \n",
       "13                                                Yes                  \n",
       "18                                                Yes                  \n",
       "21                                                Yes                  \n",
       "22                                                Yes                  \n",
       "25                                                Yes                  \n",
       "36                                                Yes                  \n",
       "\n",
       "   Smokes cigarettes Currently residing with husband/partner  \\\n",
       "3                 No                         Living with her   \n",
       "6                 No                         Living with her   \n",
       "9                 No                         Living with her   \n",
       "12                No                         Living with her   \n",
       "13                No                         Living with her   \n",
       "18                No                         Living with her   \n",
       "21                No                         Living with her   \n",
       "22                No                         Living with her   \n",
       "25                No                       Staying elsewhere   \n",
       "36                No                         Living with her   \n",
       "\n",
       "   Had fever in last two weeks  \\\n",
       "3                           No   \n",
       "6                           No   \n",
       "9                           No   \n",
       "12                          No   \n",
       "13                          No   \n",
       "18                          No   \n",
       "21                          No   \n",
       "22                          No   \n",
       "25                          No   \n",
       "36                          No   \n",
       "\n",
       "    Hemoglobin level adjusted for altitude (g/dl - 1 decimal)  \\\n",
       "3                                               114.0           \n",
       "6                                               102.0           \n",
       "9                                               113.0           \n",
       "12                                              109.0           \n",
       "13                                               96.0           \n",
       "18                                               96.0           \n",
       "21                                               96.0           \n",
       "22                                              115.0           \n",
       "25                                              110.0           \n",
       "36                                              138.0           \n",
       "\n",
       "   Taking iron pills, sprinkles or syrup  \n",
       "3                                     No  \n",
       "6                                    Yes  \n",
       "9                                    Yes  \n",
       "12                                    No  \n",
       "13                                   Yes  \n",
       "18                                   Yes  \n",
       "21                                    No  \n",
       "22                                   Yes  \n",
       "25                                    No  \n",
       "36                                    No  "
      ]
     },
     "execution_count": 42,
     "metadata": {},
     "output_type": "execute_result"
    }
   ],
   "source": [
    "import torch\n",
    "from torch.utils.data import DataLoader, TensorDataset\n",
    "import torch.nn.init as init\n",
    "\n",
    "import torch.nn as nn\n",
    "import torch.optim as optim\n",
    "import numpy as np\n",
    "import pandas as pd\n",
    "import matplotlib.pyplot as plts\n",
    "import seaborn as sns\n",
    "%matplotlib inline\n",
    "\n",
    "data = pd.read_csv('/Users/ponynie/Developer/Python_Code/IntroDMLabChula/Final_Project/children anemia.csv')\n",
    "data.dropna(inplace=True)\n",
    "\n",
    "data.drop(['Anemia level.1', 'Hemoglobin level adjusted for altitude and smoking (g/dl - 1 decimal)', 'When child put to breast', 'Current marital status'], axis=1, inplace=True)\n",
    "data['Age in 5-year groups'] = data['Age in 5-year groups'].apply(lambda x: sum(map(int,x.split('-')))/2)\n",
    "data = data[data['Had fever in last two weeks'].isin(['Yes', 'No'])]\n",
    "data = data[data['Taking iron pills, sprinkles or syrup'].isin(['Yes', 'No'])]\n",
    "\n",
    "data.head(10)\n"
   ]
  },
  {
   "cell_type": "markdown",
   "metadata": {},
   "source": [
    "### Maps categorical to codes"
   ]
  },
  {
   "cell_type": "code",
   "execution_count": 43,
   "metadata": {},
   "outputs": [
    {
     "name": "stdout",
     "output_type": "stream",
     "text": [
      "Index(['Rural', 'Urban'], dtype='object') Type of place of residence\n",
      "Index(['Higher', 'No education', 'Primary', 'Secondary'], dtype='object') Highest educational level\n",
      "Index(['Middle', 'Poorer', 'Poorest', 'Richer', 'Richest'], dtype='object') Wealth index combined\n",
      "Index(['No', 'Yes'], dtype='object') Have mosquito bed net for sleeping (from household questionnaire)\n",
      "Index(['No', 'Yes'], dtype='object') Smokes cigarettes\n",
      "Index(['Living with her', 'Staying elsewhere'], dtype='object') Currently residing with husband/partner\n",
      "Index(['No', 'Yes'], dtype='object') Had fever in last two weeks\n",
      "Index(['No', 'Yes'], dtype='object') Taking iron pills, sprinkles or syrup\n",
      "Index(['Mild', 'Moderate', 'Not anemic', 'Severe'], dtype='object') Label\n"
     ]
    }
   ],
   "source": [
    "categorical_columns = ['Type of place of residence', 'Highest educational level', 'Wealth index combined', 'Have mosquito bed net for sleeping (from household questionnaire)', 'Smokes cigarettes', 'Currently residing with husband/partner', 'Had fever in last two weeks', 'Taking iron pills, sprinkles or syrup']\n",
    "numerical_columns = ['Age in 5-year groups', 'Births in last five years', 'Age of respondent at 1st birth', 'Hemoglobin level adjusted for altitude (g/dl - 1 decimal)']\n",
    "label_columns = ['Anemia level']\n",
    "\n",
    "for category in categorical_columns:\n",
    "    data[category] = data[category].astype('category')\n",
    "data['Anemia level'] = data['Anemia level'].astype('category')\n",
    "\n",
    "for categorical in categorical_columns:\n",
    "    print(data[categorical].cat.categories, categorical)\n",
    "print(data['Anemia level'].cat.categories, \"Label\")"
   ]
  },
  {
   "cell_type": "markdown",
   "metadata": {},
   "source": [
    "### Create nparray of categorical matrix"
   ]
  },
  {
   "cell_type": "code",
   "execution_count": 44,
   "metadata": {},
   "outputs": [
    {
     "data": {
      "text/plain": [
       "array([[1, 3, 4, 1, 0, 0, 0, 0],\n",
       "       [1, 3, 4, 1, 0, 0, 0, 1],\n",
       "       [1, 3, 4, 1, 0, 0, 0, 1],\n",
       "       [1, 0, 4, 1, 0, 0, 0, 0],\n",
       "       [1, 0, 4, 1, 0, 0, 0, 1],\n",
       "       [1, 3, 4, 1, 0, 0, 0, 1],\n",
       "       [1, 3, 3, 1, 0, 0, 0, 0],\n",
       "       [1, 3, 3, 1, 0, 0, 0, 1],\n",
       "       [1, 3, 3, 1, 0, 1, 0, 0],\n",
       "       [1, 1, 4, 1, 0, 0, 0, 0]], dtype=int8)"
      ]
     },
     "execution_count": 44,
     "metadata": {},
     "output_type": "execute_result"
    }
   ],
   "source": [
    "categorical_np = [data[i].cat.codes.values for i in categorical_columns]\n",
    "categorical_data = np.stack(categorical_np, 1)\n",
    "categorical_data[:10]"
   ]
  },
  {
   "cell_type": "markdown",
   "metadata": {},
   "source": [
    "### Convert to Categorical Tensor"
   ]
  },
  {
   "cell_type": "code",
   "execution_count": 45,
   "metadata": {},
   "outputs": [
    {
     "data": {
      "text/plain": [
       "tensor([[1, 3, 4, 1, 0, 0, 0, 0],\n",
       "        [1, 3, 4, 1, 0, 0, 0, 1],\n",
       "        [1, 3, 4, 1, 0, 0, 0, 1],\n",
       "        [1, 0, 4, 1, 0, 0, 0, 0],\n",
       "        [1, 0, 4, 1, 0, 0, 0, 1],\n",
       "        [1, 3, 4, 1, 0, 0, 0, 1],\n",
       "        [1, 3, 3, 1, 0, 0, 0, 0],\n",
       "        [1, 3, 3, 1, 0, 0, 0, 1],\n",
       "        [1, 3, 3, 1, 0, 1, 0, 0],\n",
       "        [1, 1, 4, 1, 0, 0, 0, 0]])"
      ]
     },
     "execution_count": 45,
     "metadata": {},
     "output_type": "execute_result"
    }
   ],
   "source": [
    "categorical_data = torch.tensor(categorical_data, dtype=torch.int64)\n",
    "categorical_data[:10]"
   ]
  },
  {
   "cell_type": "markdown",
   "metadata": {},
   "source": [
    "### Create nparray of numerical matrix and convert to Tensor"
   ]
  },
  {
   "cell_type": "code",
   "execution_count": 46,
   "metadata": {},
   "outputs": [
    {
     "data": {
      "text/plain": [
       "tensor([[ 27.,   1.,  25., 114.],\n",
       "        [ 37.,   2.,  32., 102.],\n",
       "        [ 22.,   1.,  19., 113.],\n",
       "        [ 27.,   1.,  24., 109.],\n",
       "        [ 22.,   2.,  19.,  96.],\n",
       "        [ 27.,   2.,  22.,  96.],\n",
       "        [ 27.,   1.,  23.,  96.],\n",
       "        [ 27.,   2.,  20., 115.],\n",
       "        [ 27.,   2.,  20., 110.],\n",
       "        [ 32.,   3.,  25., 138.]])"
      ]
     },
     "execution_count": 46,
     "metadata": {},
     "output_type": "execute_result"
    }
   ],
   "source": [
    "numerical_data = np.stack([data[i].values for i in numerical_columns], 1)\n",
    "numerical_data = torch.tensor(numerical_data, dtype=torch.float)\n",
    "numerical_data[:10]"
   ]
  },
  {
   "cell_type": "markdown",
   "metadata": {},
   "source": [
    "### Create label's Tensor"
   ]
  },
  {
   "cell_type": "code",
   "execution_count": 47,
   "metadata": {},
   "outputs": [
    {
     "data": {
      "text/plain": [
       "tensor([2, 0, 0, 2, 2, 2, 2, 2, 0, 0, 2, 0, 2, 1, 2, 2, 2, 0, 2, 1, 2, 0, 0, 2,\n",
       "        3, 2, 0, 2, 1, 2, 2, 1, 2, 0, 2, 0, 0, 2, 1, 1, 2, 2, 1, 2, 2, 0, 1, 2,\n",
       "        0, 0], dtype=torch.int8)"
      ]
     },
     "execution_count": 47,
     "metadata": {},
     "output_type": "execute_result"
    }
   ],
   "source": [
    "outputs = torch.tensor(data['Anemia level'].cat.codes.values).flatten()\n",
    "outputs[200:250]"
   ]
  },
  {
   "cell_type": "markdown",
   "metadata": {},
   "source": [
    "### Check correctness of dimension"
   ]
  },
  {
   "cell_type": "code",
   "execution_count": 48,
   "metadata": {},
   "outputs": [
    {
     "data": {
      "text/plain": [
       "(torch.Size([5855, 8]), torch.Size([5855, 4]), torch.Size([5855]))"
      ]
     },
     "execution_count": 48,
     "metadata": {},
     "output_type": "execute_result"
    }
   ],
   "source": [
    "categorical_data.shape, numerical_data.shape, outputs.shape"
   ]
  },
  {
   "cell_type": "markdown",
   "metadata": {},
   "source": [
    "## Create Model"
   ]
  },
  {
   "cell_type": "markdown",
   "metadata": {},
   "source": [
    "### Split the data to train and test set"
   ]
  },
  {
   "cell_type": "code",
   "execution_count": 49,
   "metadata": {},
   "outputs": [
    {
     "name": "stdout",
     "output_type": "stream",
     "text": [
      "torch.Size([4684, 8]) torch.Size([1171, 8])\n",
      "torch.Size([4684, 4]) torch.Size([1171, 4])\n",
      "torch.Size([4684]) torch.Size([1171])\n"
     ]
    }
   ],
   "source": [
    "total_records = data.shape[0]\n",
    "test_records = int(total_records * .2) # 20% of the data for testing\n",
    "train_records = total_records - test_records # 80% of the data for training\n",
    "\n",
    "categorical_train_data = categorical_data[:train_records]\n",
    "categorical_test_data = categorical_data[train_records:]\n",
    "numerical_train_data = numerical_data[:train_records]\n",
    "numerical_test_data = numerical_data[train_records:]\n",
    "train_outputs = outputs[:train_records]\n",
    "test_outputs = outputs[train_records:]\n",
    "\n",
    "print(categorical_train_data.shape, categorical_test_data.shape)\n",
    "print(numerical_train_data.shape, numerical_test_data.shape)\n",
    "print(train_outputs.shape, test_outputs.shape)\n",
    "\n"
   ]
  },
  {
   "cell_type": "code",
   "execution_count": 50,
   "metadata": {},
   "outputs": [],
   "source": [
    "class NeuralNetwork(nn.Module):\n",
    "    def __init__(self, numerical_features_size, categorical_features_size, hidden_size, output_size):\n",
    "        super().__init__()\n",
    "        all_features_size = numerical_features_size + categorical_features_size\n",
    "        \n",
    "        self.flatten = nn.Flatten()\n",
    "        self.linear_relu_stack = nn.Sequential(\n",
    "            nn.Linear(all_features_size, hidden_size),\n",
    "            nn.BatchNorm1d(hidden_size),  \n",
    "            nn.ReLU(),\n",
    "            nn.Linear(hidden_size, hidden_size),\n",
    "            nn.BatchNorm1d(hidden_size),  \n",
    "            nn.Sigmoid(),\n",
    "            nn.Linear(hidden_size, hidden_size),\n",
    "            nn.ReLU(),\n",
    "            nn.Linear(hidden_size, output_size),\n",
    "        )\n",
    "\n",
    "    def forward(self, x):\n",
    "        x = self.flatten(x)\n",
    "        logits = self.linear_relu_stack(x)\n",
    "        return logits"
   ]
  },
  {
   "cell_type": "code",
   "execution_count": 51,
   "metadata": {},
   "outputs": [
    {
     "name": "stdout",
     "output_type": "stream",
     "text": [
      "tensor([[  1.,   3.,   4.,  ...,   1.,  25., 114.],\n",
      "        [  1.,   3.,   4.,  ...,   2.,  32., 102.],\n",
      "        [  1.,   3.,   4.,  ...,   1.,  19., 113.],\n",
      "        ...,\n",
      "        [  0.,   0.,   4.,  ...,   2.,  27., 103.],\n",
      "        [  0.,   3.,   4.,  ...,   1.,  22.,  71.],\n",
      "        [  0.,   3.,   0.,  ...,   2.,  19., 107.]], requires_grad=True)\n"
     ]
    }
   ],
   "source": [
    "train_data = torch.cat((categorical_train_data, numerical_train_data), dim=1).requires_grad_(True)\n",
    "test_data = torch.cat((categorical_test_data, numerical_test_data), dim=1).requires_grad_(True)\n",
    "print(train_data)\n"
   ]
  },
  {
   "cell_type": "code",
   "execution_count": 52,
   "metadata": {},
   "outputs": [
    {
     "name": "stdout",
     "output_type": "stream",
     "text": [
      "tensor([1, 2, 1,  ..., 1, 2, 2])\n"
     ]
    }
   ],
   "source": [
    "train_data = train_data.float()\n",
    "test_data = test_data.float()\n",
    "train_outputs = train_outputs.long()\n",
    "test_outputs = test_outputs.long()\n",
    "print(train_outputs)"
   ]
  },
  {
   "cell_type": "code",
   "execution_count": 53,
   "metadata": {},
   "outputs": [],
   "source": [
    "numerical_features_size = numerical_data.shape[1]\n",
    "categorical_features_size = categorical_data.shape[1]\n",
    "hidden_size = 40\n",
    "num_epochs = 20\n",
    "learning_rate = 0.05\n",
    "output_size = 4\n",
    "batch_size = 100\n",
    "\n",
    "model = NeuralNetwork(numerical_features_size, categorical_features_size, hidden_size, output_size)\n",
    "criterion = nn.CrossEntropyLoss()\n",
    "optimizer = optim.Adam(model.parameters(), lr=learning_rate)"
   ]
  },
  {
   "cell_type": "code",
   "execution_count": 54,
   "metadata": {},
   "outputs": [],
   "source": [
    "device = torch.device(\"mps\" if torch.cuda.is_available() else \"cpu\")\n",
    "model.to(device)\n",
    "train_data = train_data.to(device)\n",
    "test_data = test_data.to(device)\n",
    "train_outputs = train_outputs.to(device)\n",
    "test_outputs = test_outputs.to(device)"
   ]
  },
  {
   "cell_type": "code",
   "execution_count": 55,
   "metadata": {},
   "outputs": [],
   "source": [
    "train_dataset = TensorDataset(train_data, train_outputs)\n",
    "train_loader = DataLoader(train_dataset, batch_size=batch_size, shuffle=True)"
   ]
  },
  {
   "cell_type": "code",
   "execution_count": 56,
   "metadata": {},
   "outputs": [
    {
     "name": "stdout",
     "output_type": "stream",
     "text": [
      "Epoch 1, Batch 10, Loss: 0.1240\n",
      "Epoch 1, Batch 20, Loss: 0.1159\n"
     ]
    },
    {
     "name": "stdout",
     "output_type": "stream",
     "text": [
      "Epoch 1, Batch 30, Loss: 0.1149\n",
      "Epoch 1, Batch 40, Loss: 0.1133\n",
      "Epoch 1/20, Training Loss: 1.0585576295852661\n",
      "Epoch 2, Batch 10, Loss: 0.1113\n",
      "Epoch 2, Batch 20, Loss: 0.1139\n",
      "Epoch 2, Batch 30, Loss: 0.1121\n",
      "Epoch 2, Batch 40, Loss: 0.1144\n",
      "Epoch 2/20, Training Loss: 1.0386468172073364\n",
      "Epoch 3, Batch 10, Loss: 0.1130\n",
      "Epoch 3, Batch 20, Loss: 0.1155\n",
      "Epoch 3, Batch 30, Loss: 0.1135\n",
      "Epoch 3, Batch 40, Loss: 0.1121\n",
      "Epoch 3/20, Training Loss: 1.0729312896728516\n",
      "Epoch 4, Batch 10, Loss: 0.1123\n",
      "Epoch 4, Batch 20, Loss: 0.1145\n",
      "Epoch 4, Batch 30, Loss: 0.1124\n",
      "Epoch 4, Batch 40, Loss: 0.1119\n",
      "Epoch 4/20, Training Loss: 1.2210458517074585\n",
      "Epoch 5, Batch 10, Loss: 0.1123\n",
      "Epoch 5, Batch 20, Loss: 0.1127\n",
      "Epoch 5, Batch 30, Loss: 0.1129\n",
      "Epoch 5, Batch 40, Loss: 0.1163\n",
      "Epoch 5/20, Training Loss: 1.0753041505813599\n",
      "Epoch 6, Batch 10, Loss: 0.1124\n",
      "Epoch 6, Batch 20, Loss: 0.1134\n",
      "Epoch 6, Batch 30, Loss: 0.1132\n",
      "Epoch 6, Batch 40, Loss: 0.1104\n",
      "Epoch 6/20, Training Loss: 1.1004762649536133\n",
      "Epoch 7, Batch 10, Loss: 0.1131\n",
      "Epoch 7, Batch 20, Loss: 0.1140\n",
      "Epoch 7, Batch 30, Loss: 0.1131\n",
      "Epoch 7, Batch 40, Loss: 0.1115\n",
      "Epoch 7/20, Training Loss: 1.1034170389175415\n",
      "Epoch 8, Batch 10, Loss: 0.1121\n",
      "Epoch 8, Batch 20, Loss: 0.1141\n",
      "Epoch 8, Batch 30, Loss: 0.1127\n",
      "Epoch 8, Batch 40, Loss: 0.1125\n",
      "Epoch 8/20, Training Loss: 1.1744444370269775\n",
      "Epoch 9, Batch 10, Loss: 0.1114\n",
      "Epoch 9, Batch 20, Loss: 0.1127\n",
      "Epoch 9, Batch 30, Loss: 0.1125\n",
      "Epoch 9, Batch 40, Loss: 0.1133\n",
      "Epoch 9/20, Training Loss: 1.1262521743774414\n",
      "Epoch 10, Batch 10, Loss: 0.1117\n",
      "Epoch 10, Batch 20, Loss: 0.1113\n",
      "Epoch 10, Batch 30, Loss: 0.1127\n",
      "Epoch 10, Batch 40, Loss: 0.1129\n",
      "Epoch 10/20, Training Loss: 1.0496892929077148\n",
      "Epoch 11, Batch 10, Loss: 0.1116\n",
      "Epoch 11, Batch 20, Loss: 0.1128\n",
      "Epoch 11, Batch 30, Loss: 0.1116\n",
      "Epoch 11, Batch 40, Loss: 0.1131\n",
      "Epoch 11/20, Training Loss: 1.0894676446914673\n",
      "Epoch 12, Batch 10, Loss: 0.1137\n",
      "Epoch 12, Batch 20, Loss: 0.1116\n",
      "Epoch 12, Batch 30, Loss: 0.1110\n",
      "Epoch 12, Batch 40, Loss: 0.1108\n",
      "Epoch 12/20, Training Loss: 1.1347935199737549\n",
      "Epoch 13, Batch 10, Loss: 0.1112\n",
      "Epoch 13, Batch 20, Loss: 0.1144\n",
      "Epoch 13, Batch 30, Loss: 0.1098\n",
      "Epoch 13, Batch 40, Loss: 0.1139\n",
      "Epoch 13/20, Training Loss: 1.0967899560928345\n",
      "Epoch 14, Batch 10, Loss: 0.1123\n",
      "Epoch 14, Batch 20, Loss: 0.1120\n",
      "Epoch 14, Batch 30, Loss: 0.1112\n",
      "Epoch 14, Batch 40, Loss: 0.1124\n",
      "Epoch 14/20, Training Loss: 1.1343910694122314\n",
      "Epoch 15, Batch 10, Loss: 0.1113\n",
      "Epoch 15, Batch 20, Loss: 0.1113\n",
      "Epoch 15, Batch 30, Loss: 0.1148\n",
      "Epoch 15, Batch 40, Loss: 0.1115\n",
      "Epoch 15/20, Training Loss: 1.0755736827850342\n",
      "Epoch 16, Batch 10, Loss: 0.1133\n",
      "Epoch 16, Batch 20, Loss: 0.1123\n",
      "Epoch 16, Batch 30, Loss: 0.1120\n",
      "Epoch 16, Batch 40, Loss: 0.1106\n",
      "Epoch 16/20, Training Loss: 1.151181697845459\n",
      "Epoch 17, Batch 10, Loss: 0.1092\n",
      "Epoch 17, Batch 20, Loss: 0.1120\n",
      "Epoch 17, Batch 30, Loss: 0.1103\n",
      "Epoch 17, Batch 40, Loss: 0.1149\n",
      "Epoch 17/20, Training Loss: 1.1415069103240967\n",
      "Epoch 18, Batch 10, Loss: 0.1128\n",
      "Epoch 18, Batch 20, Loss: 0.1133\n",
      "Epoch 18, Batch 30, Loss: 0.1093\n",
      "Epoch 18, Batch 40, Loss: 0.1112\n",
      "Epoch 18/20, Training Loss: 1.15531587600708\n",
      "Epoch 19, Batch 10, Loss: 0.1115\n",
      "Epoch 19, Batch 20, Loss: 0.1132\n",
      "Epoch 19, Batch 30, Loss: 0.1127\n",
      "Epoch 19, Batch 40, Loss: 0.1111\n",
      "Epoch 19/20, Training Loss: 1.0852566957473755\n",
      "Epoch 20, Batch 10, Loss: 0.1114\n",
      "Epoch 20, Batch 20, Loss: 0.1131\n",
      "Epoch 20, Batch 30, Loss: 0.1103\n",
      "Epoch 20, Batch 40, Loss: 0.1104\n",
      "Epoch 20/20, Training Loss: 1.0614850521087646\n",
      "Training complete.\n"
     ]
    }
   ],
   "source": [
    "# Training loop\n",
    "for epoch in range(num_epochs):\n",
    "    model.train()  # Set the model to training mode\n",
    "    running_loss = 0.0\n",
    "    for batch_idx, (inputs, labels) in enumerate(train_loader):\n",
    "        optimizer.zero_grad()\n",
    "        outputs = model(inputs)\n",
    "\n",
    "        loss = criterion(outputs, labels)\n",
    "        loss.backward()\n",
    "        optimizer.step()\n",
    "        \n",
    "        running_loss += loss.item()\n",
    "        if batch_idx % 10 == 9:  # Print every 100 batches\n",
    "            print(f\"Epoch {epoch + 1}, Batch {batch_idx + 1}, Loss: {running_loss / 100:.4f}\")\n",
    "            running_loss = 0.0\n",
    "\n",
    "    print(f\"Epoch {epoch + 1}/{num_epochs}, Training Loss: {loss.item()}\")\n",
    "print(\"Training complete.\")\n"
   ]
  },
  {
   "cell_type": "code",
   "execution_count": 57,
   "metadata": {},
   "outputs": [
    {
     "name": "stdout",
     "output_type": "stream",
     "text": [
      "tensor([1, 1, 1,  ..., 2, 1, 1])\n",
      "tensor([1, 1, 2,  ..., 2, 2, 2])\n",
      "465\n",
      "1171\n",
      "Accuracy of the model on the test data: 39.709649871904354%\n"
     ]
    }
   ],
   "source": [
    "model.eval()  # Set the model to evaluation mode\n",
    "with torch.no_grad():\n",
    "    correct = 0\n",
    "    total = 0\n",
    "    outputs = model(test_data)\n",
    "    _, predicted = torch.max(outputs.data, 1)\n",
    "    print(predicted)\n",
    "    print(test_outputs)\n",
    "    total += test_outputs.size(0)\n",
    "    correct += (predicted == test_outputs).sum().item()\n",
    "    print(correct)\n",
    "    print(total)\n",
    "\n",
    "print(f\"Accuracy of the model on the test data: {(100 * correct / total)}%\")"
   ]
  }
 ],
 "metadata": {
  "kernelspec": {
   "display_name": ".venv",
   "language": "python",
   "name": "python3"
  },
  "language_info": {
   "codemirror_mode": {
    "name": "ipython",
    "version": 3
   },
   "file_extension": ".py",
   "mimetype": "text/x-python",
   "name": "python",
   "nbconvert_exporter": "python",
   "pygments_lexer": "ipython3",
   "version": "3.10.8"
  }
 },
 "nbformat": 4,
 "nbformat_minor": 2
}
