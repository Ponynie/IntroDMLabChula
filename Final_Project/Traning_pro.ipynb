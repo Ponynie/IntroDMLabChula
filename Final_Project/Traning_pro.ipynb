{
 "cells": [
  {
   "cell_type": "code",
   "execution_count": 199,
   "metadata": {},
   "outputs": [
    {
     "data": {
      "text/html": [
       "<div>\n",
       "<style scoped>\n",
       "    .dataframe tbody tr th:only-of-type {\n",
       "        vertical-align: middle;\n",
       "    }\n",
       "\n",
       "    .dataframe tbody tr th {\n",
       "        vertical-align: top;\n",
       "    }\n",
       "\n",
       "    .dataframe thead th {\n",
       "        text-align: right;\n",
       "    }\n",
       "</style>\n",
       "<table border=\"1\" class=\"dataframe\">\n",
       "  <thead>\n",
       "    <tr style=\"text-align: right;\">\n",
       "      <th></th>\n",
       "      <th>Age in 5-year groups</th>\n",
       "      <th>Type of place of residence</th>\n",
       "      <th>Highest educational level</th>\n",
       "      <th>Wealth index combined</th>\n",
       "      <th>Births in last five years</th>\n",
       "      <th>Age of respondent at 1st birth</th>\n",
       "      <th>Anemia level</th>\n",
       "      <th>Have mosquito bed net for sleeping (from household questionnaire)</th>\n",
       "      <th>Smokes cigarettes</th>\n",
       "      <th>Currently residing with husband/partner</th>\n",
       "      <th>Had fever in last two weeks</th>\n",
       "      <th>Hemoglobin level adjusted for altitude (g/dl - 1 decimal)</th>\n",
       "      <th>Taking iron pills, sprinkles or syrup</th>\n",
       "    </tr>\n",
       "  </thead>\n",
       "  <tbody>\n",
       "    <tr>\n",
       "      <th>3</th>\n",
       "      <td>25-29</td>\n",
       "      <td>Urban</td>\n",
       "      <td>Secondary</td>\n",
       "      <td>Richest</td>\n",
       "      <td>1</td>\n",
       "      <td>25</td>\n",
       "      <td>Moderate</td>\n",
       "      <td>Yes</td>\n",
       "      <td>No</td>\n",
       "      <td>Living with her</td>\n",
       "      <td>No</td>\n",
       "      <td>114.0</td>\n",
       "      <td>No</td>\n",
       "    </tr>\n",
       "    <tr>\n",
       "      <th>6</th>\n",
       "      <td>35-39</td>\n",
       "      <td>Urban</td>\n",
       "      <td>Secondary</td>\n",
       "      <td>Richest</td>\n",
       "      <td>2</td>\n",
       "      <td>32</td>\n",
       "      <td>Not anemic</td>\n",
       "      <td>Yes</td>\n",
       "      <td>No</td>\n",
       "      <td>Living with her</td>\n",
       "      <td>No</td>\n",
       "      <td>102.0</td>\n",
       "      <td>Yes</td>\n",
       "    </tr>\n",
       "    <tr>\n",
       "      <th>9</th>\n",
       "      <td>20-24</td>\n",
       "      <td>Urban</td>\n",
       "      <td>Secondary</td>\n",
       "      <td>Richest</td>\n",
       "      <td>1</td>\n",
       "      <td>19</td>\n",
       "      <td>Moderate</td>\n",
       "      <td>Yes</td>\n",
       "      <td>No</td>\n",
       "      <td>Living with her</td>\n",
       "      <td>No</td>\n",
       "      <td>113.0</td>\n",
       "      <td>Yes</td>\n",
       "    </tr>\n",
       "    <tr>\n",
       "      <th>12</th>\n",
       "      <td>25-29</td>\n",
       "      <td>Urban</td>\n",
       "      <td>Higher</td>\n",
       "      <td>Richest</td>\n",
       "      <td>1</td>\n",
       "      <td>24</td>\n",
       "      <td>Mild</td>\n",
       "      <td>Yes</td>\n",
       "      <td>No</td>\n",
       "      <td>Living with her</td>\n",
       "      <td>No</td>\n",
       "      <td>109.0</td>\n",
       "      <td>No</td>\n",
       "    </tr>\n",
       "    <tr>\n",
       "      <th>13</th>\n",
       "      <td>20-24</td>\n",
       "      <td>Urban</td>\n",
       "      <td>Higher</td>\n",
       "      <td>Richest</td>\n",
       "      <td>2</td>\n",
       "      <td>19</td>\n",
       "      <td>Mild</td>\n",
       "      <td>Yes</td>\n",
       "      <td>No</td>\n",
       "      <td>Living with her</td>\n",
       "      <td>No</td>\n",
       "      <td>96.0</td>\n",
       "      <td>Yes</td>\n",
       "    </tr>\n",
       "    <tr>\n",
       "      <th>18</th>\n",
       "      <td>25-29</td>\n",
       "      <td>Urban</td>\n",
       "      <td>Secondary</td>\n",
       "      <td>Richest</td>\n",
       "      <td>2</td>\n",
       "      <td>22</td>\n",
       "      <td>Moderate</td>\n",
       "      <td>Yes</td>\n",
       "      <td>No</td>\n",
       "      <td>Living with her</td>\n",
       "      <td>No</td>\n",
       "      <td>96.0</td>\n",
       "      <td>Yes</td>\n",
       "    </tr>\n",
       "    <tr>\n",
       "      <th>21</th>\n",
       "      <td>25-29</td>\n",
       "      <td>Urban</td>\n",
       "      <td>Secondary</td>\n",
       "      <td>Richer</td>\n",
       "      <td>1</td>\n",
       "      <td>23</td>\n",
       "      <td>Mild</td>\n",
       "      <td>Yes</td>\n",
       "      <td>No</td>\n",
       "      <td>Living with her</td>\n",
       "      <td>No</td>\n",
       "      <td>96.0</td>\n",
       "      <td>No</td>\n",
       "    </tr>\n",
       "    <tr>\n",
       "      <th>22</th>\n",
       "      <td>25-29</td>\n",
       "      <td>Urban</td>\n",
       "      <td>Secondary</td>\n",
       "      <td>Richer</td>\n",
       "      <td>2</td>\n",
       "      <td>20</td>\n",
       "      <td>Mild</td>\n",
       "      <td>Yes</td>\n",
       "      <td>No</td>\n",
       "      <td>Living with her</td>\n",
       "      <td>No</td>\n",
       "      <td>115.0</td>\n",
       "      <td>Yes</td>\n",
       "    </tr>\n",
       "    <tr>\n",
       "      <th>25</th>\n",
       "      <td>25-29</td>\n",
       "      <td>Urban</td>\n",
       "      <td>Secondary</td>\n",
       "      <td>Richer</td>\n",
       "      <td>2</td>\n",
       "      <td>20</td>\n",
       "      <td>Not anemic</td>\n",
       "      <td>Yes</td>\n",
       "      <td>No</td>\n",
       "      <td>Staying elsewhere</td>\n",
       "      <td>No</td>\n",
       "      <td>110.0</td>\n",
       "      <td>No</td>\n",
       "    </tr>\n",
       "    <tr>\n",
       "      <th>36</th>\n",
       "      <td>30-34</td>\n",
       "      <td>Urban</td>\n",
       "      <td>No education</td>\n",
       "      <td>Richest</td>\n",
       "      <td>3</td>\n",
       "      <td>25</td>\n",
       "      <td>Not anemic</td>\n",
       "      <td>Yes</td>\n",
       "      <td>No</td>\n",
       "      <td>Living with her</td>\n",
       "      <td>No</td>\n",
       "      <td>138.0</td>\n",
       "      <td>No</td>\n",
       "    </tr>\n",
       "  </tbody>\n",
       "</table>\n",
       "</div>"
      ],
      "text/plain": [
       "   Age in 5-year groups Type of place of residence Highest educational level  \\\n",
       "3                 25-29                      Urban                 Secondary   \n",
       "6                 35-39                      Urban                 Secondary   \n",
       "9                 20-24                      Urban                 Secondary   \n",
       "12                25-29                      Urban                    Higher   \n",
       "13                20-24                      Urban                    Higher   \n",
       "18                25-29                      Urban                 Secondary   \n",
       "21                25-29                      Urban                 Secondary   \n",
       "22                25-29                      Urban                 Secondary   \n",
       "25                25-29                      Urban                 Secondary   \n",
       "36                30-34                      Urban              No education   \n",
       "\n",
       "   Wealth index combined  Births in last five years  \\\n",
       "3                Richest                          1   \n",
       "6                Richest                          2   \n",
       "9                Richest                          1   \n",
       "12               Richest                          1   \n",
       "13               Richest                          2   \n",
       "18               Richest                          2   \n",
       "21                Richer                          1   \n",
       "22                Richer                          2   \n",
       "25                Richer                          2   \n",
       "36               Richest                          3   \n",
       "\n",
       "    Age of respondent at 1st birth Anemia level  \\\n",
       "3                               25     Moderate   \n",
       "6                               32   Not anemic   \n",
       "9                               19     Moderate   \n",
       "12                              24         Mild   \n",
       "13                              19         Mild   \n",
       "18                              22     Moderate   \n",
       "21                              23         Mild   \n",
       "22                              20         Mild   \n",
       "25                              20   Not anemic   \n",
       "36                              25   Not anemic   \n",
       "\n",
       "   Have mosquito bed net for sleeping (from household questionnaire)  \\\n",
       "3                                                 Yes                  \n",
       "6                                                 Yes                  \n",
       "9                                                 Yes                  \n",
       "12                                                Yes                  \n",
       "13                                                Yes                  \n",
       "18                                                Yes                  \n",
       "21                                                Yes                  \n",
       "22                                                Yes                  \n",
       "25                                                Yes                  \n",
       "36                                                Yes                  \n",
       "\n",
       "   Smokes cigarettes Currently residing with husband/partner  \\\n",
       "3                 No                         Living with her   \n",
       "6                 No                         Living with her   \n",
       "9                 No                         Living with her   \n",
       "12                No                         Living with her   \n",
       "13                No                         Living with her   \n",
       "18                No                         Living with her   \n",
       "21                No                         Living with her   \n",
       "22                No                         Living with her   \n",
       "25                No                       Staying elsewhere   \n",
       "36                No                         Living with her   \n",
       "\n",
       "   Had fever in last two weeks  \\\n",
       "3                           No   \n",
       "6                           No   \n",
       "9                           No   \n",
       "12                          No   \n",
       "13                          No   \n",
       "18                          No   \n",
       "21                          No   \n",
       "22                          No   \n",
       "25                          No   \n",
       "36                          No   \n",
       "\n",
       "    Hemoglobin level adjusted for altitude (g/dl - 1 decimal)  \\\n",
       "3                                               114.0           \n",
       "6                                               102.0           \n",
       "9                                               113.0           \n",
       "12                                              109.0           \n",
       "13                                               96.0           \n",
       "18                                               96.0           \n",
       "21                                               96.0           \n",
       "22                                              115.0           \n",
       "25                                              110.0           \n",
       "36                                              138.0           \n",
       "\n",
       "   Taking iron pills, sprinkles or syrup  \n",
       "3                                     No  \n",
       "6                                    Yes  \n",
       "9                                    Yes  \n",
       "12                                    No  \n",
       "13                                   Yes  \n",
       "18                                   Yes  \n",
       "21                                    No  \n",
       "22                                   Yes  \n",
       "25                                    No  \n",
       "36                                    No  "
      ]
     },
     "execution_count": 199,
     "metadata": {},
     "output_type": "execute_result"
    }
   ],
   "source": [
    "import torch\n",
    "from torch.utils.data import DataLoader, TensorDataset\n",
    "import torch.nn.init as init\n",
    "\n",
    "import torch.nn as nn\n",
    "import torch.optim as optim\n",
    "import numpy as np\n",
    "import pandas as pd\n",
    "import matplotlib.pyplot as plt\n",
    "import seaborn as sns\n",
    "%matplotlib inline\n",
    "\n",
    "data = pd.read_csv('/Users/ponynie/Developer/Python_Code/IntroDMLabChula/Final_Project/children anemia.csv')\n",
    "data.dropna(inplace=True)\n",
    "\n",
    "data.drop(['Anemia level.1', 'Hemoglobin level adjusted for altitude and smoking (g/dl - 1 decimal)', 'When child put to breast', 'Current marital status'], axis=1, inplace=True)\n",
    "\n",
    "data = data[data['Had fever in last two weeks'].isin(['Yes', 'No'])]\n",
    "data = data[data['Taking iron pills, sprinkles or syrup'].isin(['Yes', 'No'])]\n",
    "\n",
    "data.head(10)"
   ]
  },
  {
   "cell_type": "code",
   "execution_count": 200,
   "metadata": {},
   "outputs": [
    {
     "name": "stdout",
     "output_type": "stream",
     "text": [
      "Index(['15-19', '20-24', '25-29', '30-34', '35-39', '40-44', '45-49'], dtype='object') Age in 5-year groups\n",
      "Index(['Rural', 'Urban'], dtype='object') Type of place of residence\n",
      "Index(['Higher', 'No education', 'Primary', 'Secondary'], dtype='object') Highest educational level\n",
      "Index(['Middle', 'Poorer', 'Poorest', 'Richer', 'Richest'], dtype='object') Wealth index combined\n",
      "Index(['No', 'Yes'], dtype='object') Have mosquito bed net for sleeping (from household questionnaire)\n",
      "Index(['No', 'Yes'], dtype='object') Smokes cigarettes\n",
      "Index(['Living with her', 'Staying elsewhere'], dtype='object') Currently residing with husband/partner\n",
      "Index(['No', 'Yes'], dtype='object') Had fever in last two weeks\n",
      "Index(['No', 'Yes'], dtype='object') Taking iron pills, sprinkles or syrup\n",
      "Index(['Mild', 'Moderate', 'Not anemic', 'Severe'], dtype='object') Label\n"
     ]
    }
   ],
   "source": [
    "categorical_columns = ['Age in 5-year groups', 'Type of place of residence', 'Highest educational level', 'Wealth index combined', 'Have mosquito bed net for sleeping (from household questionnaire)', 'Smokes cigarettes', 'Currently residing with husband/partner', 'Had fever in last two weeks', 'Taking iron pills, sprinkles or syrup']\n",
    "numerical_columns = ['Births in last five years', 'Age of respondent at 1st birth', 'Hemoglobin level adjusted for altitude (g/dl - 1 decimal)']\n",
    "label_columns = 'Anemia level'\n",
    "\n",
    "for category in categorical_columns:\n",
    "    data[category] = data[category].astype('category')\n",
    "data['Anemia level'] = data['Anemia level'].astype('category')\n",
    "\n",
    "for categorical in categorical_columns:\n",
    "    print(data[categorical].cat.categories, categorical)\n",
    "print(data['Anemia level'].cat.categories, \"Label\")"
   ]
  },
  {
   "cell_type": "code",
   "execution_count": 201,
   "metadata": {},
   "outputs": [
    {
     "data": {
      "text/plain": [
       "array([[2, 1, 3, 4, 1, 0, 0, 0, 0],\n",
       "       [4, 1, 3, 4, 1, 0, 0, 0, 1],\n",
       "       [1, 1, 3, 4, 1, 0, 0, 0, 1],\n",
       "       [2, 1, 0, 4, 1, 0, 0, 0, 0],\n",
       "       [1, 1, 0, 4, 1, 0, 0, 0, 1],\n",
       "       [2, 1, 3, 4, 1, 0, 0, 0, 1],\n",
       "       [2, 1, 3, 3, 1, 0, 0, 0, 0],\n",
       "       [2, 1, 3, 3, 1, 0, 0, 0, 1],\n",
       "       [2, 1, 3, 3, 1, 0, 1, 0, 0],\n",
       "       [3, 1, 1, 4, 1, 0, 0, 0, 0]], dtype=int8)"
      ]
     },
     "execution_count": 201,
     "metadata": {},
     "output_type": "execute_result"
    }
   ],
   "source": [
    "categorical_np = [data[i].cat.codes.values for i in categorical_columns]\n",
    "categorical_data = np.stack(categorical_np, 1)\n",
    "categorical_data[:10]"
   ]
  },
  {
   "cell_type": "code",
   "execution_count": 202,
   "metadata": {},
   "outputs": [
    {
     "data": {
      "text/plain": [
       "tensor([[2, 1, 3, 4, 1, 0, 0, 0, 0],\n",
       "        [4, 1, 3, 4, 1, 0, 0, 0, 1],\n",
       "        [1, 1, 3, 4, 1, 0, 0, 0, 1],\n",
       "        [2, 1, 0, 4, 1, 0, 0, 0, 0],\n",
       "        [1, 1, 0, 4, 1, 0, 0, 0, 1],\n",
       "        [2, 1, 3, 4, 1, 0, 0, 0, 1],\n",
       "        [2, 1, 3, 3, 1, 0, 0, 0, 0],\n",
       "        [2, 1, 3, 3, 1, 0, 0, 0, 1],\n",
       "        [2, 1, 3, 3, 1, 0, 1, 0, 0],\n",
       "        [3, 1, 1, 4, 1, 0, 0, 0, 0]])"
      ]
     },
     "execution_count": 202,
     "metadata": {},
     "output_type": "execute_result"
    }
   ],
   "source": [
    "categorical_data = torch.tensor(categorical_data, dtype=torch.int64)\n",
    "categorical_data[:10]"
   ]
  },
  {
   "cell_type": "code",
   "execution_count": 203,
   "metadata": {},
   "outputs": [
    {
     "data": {
      "text/plain": [
       "tensor([[  1.,  25., 114.],\n",
       "        [  2.,  32., 102.],\n",
       "        [  1.,  19., 113.],\n",
       "        [  1.,  24., 109.],\n",
       "        [  2.,  19.,  96.],\n",
       "        [  2.,  22.,  96.],\n",
       "        [  1.,  23.,  96.],\n",
       "        [  2.,  20., 115.],\n",
       "        [  2.,  20., 110.],\n",
       "        [  3.,  25., 138.]])"
      ]
     },
     "execution_count": 203,
     "metadata": {},
     "output_type": "execute_result"
    }
   ],
   "source": [
    "numerical_data = np.stack([data[i].values for i in numerical_columns], 1)\n",
    "numerical_data = torch.tensor(numerical_data, dtype=torch.float)\n",
    "numerical_data[:10]"
   ]
  },
  {
   "cell_type": "code",
   "execution_count": 204,
   "metadata": {},
   "outputs": [
    {
     "data": {
      "text/plain": [
       "tensor([1, 2, 1, 0, 0, 1, 0, 0, 2, 2], dtype=torch.int8)"
      ]
     },
     "execution_count": 204,
     "metadata": {},
     "output_type": "execute_result"
    }
   ],
   "source": [
    "outputs = torch.tensor(data['Anemia level'].cat.codes.values).flatten()\n",
    "outputs[:10]"
   ]
  },
  {
   "cell_type": "code",
   "execution_count": 205,
   "metadata": {},
   "outputs": [
    {
     "data": {
      "text/plain": [
       "(torch.Size([5855, 9]), torch.Size([5855, 3]), torch.Size([5855]))"
      ]
     },
     "execution_count": 205,
     "metadata": {},
     "output_type": "execute_result"
    }
   ],
   "source": [
    "categorical_data.shape, numerical_data.shape, outputs.shape"
   ]
  },
  {
   "cell_type": "code",
   "execution_count": 206,
   "metadata": {},
   "outputs": [
    {
     "name": "stdout",
     "output_type": "stream",
     "text": [
      "[(7, 4), (2, 1), (4, 2), (5, 3), (2, 1), (2, 1), (2, 1), (2, 1), (2, 1)]\n"
     ]
    }
   ],
   "source": [
    "categorical_column_sizes = [len(data[column].cat.categories) for column in categorical_columns]\n",
    "categorical_embedding_sizes = [(col_size, min(50, (col_size+1)//2)) for col_size in categorical_column_sizes]\n",
    "print(categorical_embedding_sizes)"
   ]
  },
  {
   "cell_type": "code",
   "execution_count": 207,
   "metadata": {},
   "outputs": [
    {
     "name": "stdout",
     "output_type": "stream",
     "text": [
      "torch.Size([4684, 9]) torch.Size([1171, 9])\n",
      "torch.Size([4684, 3]) torch.Size([1171, 3])\n",
      "torch.Size([4684]) torch.Size([1171])\n"
     ]
    }
   ],
   "source": [
    "total_records = data.shape[0]\n",
    "test_records = int(total_records * .2) # 20% of the data for testing\n",
    "train_records = total_records - test_records # 80% of the data for training\n",
    "\n",
    "categorical_train_data = categorical_data[:train_records]\n",
    "categorical_test_data = categorical_data[train_records:]\n",
    "numerical_train_data = numerical_data[:train_records]\n",
    "numerical_test_data = numerical_data[train_records:]\n",
    "train_label = outputs[:train_records]\n",
    "test_label = outputs[train_records:]\n",
    "\n",
    "print(categorical_train_data.shape, categorical_test_data.shape)\n",
    "print(numerical_train_data.shape, numerical_test_data.shape)\n",
    "print(train_label.shape, test_label.shape)"
   ]
  },
  {
   "cell_type": "code",
   "execution_count": 209,
   "metadata": {},
   "outputs": [
    {
     "name": "stdout",
     "output_type": "stream",
     "text": [
      "Model(\n",
      "  (all_embeddings): ModuleList(\n",
      "    (0): Embedding(7, 4)\n",
      "    (1): Embedding(2, 1)\n",
      "    (2): Embedding(4, 2)\n",
      "    (3): Embedding(5, 3)\n",
      "    (4-8): 5 x Embedding(2, 1)\n",
      "  )\n",
      "  (embedding_dropout): Dropout(p=0.4, inplace=False)\n",
      "  (batch_norm_num): BatchNorm1d(3, eps=1e-05, momentum=0.1, affine=True, track_running_stats=True)\n",
      "  (layers): Sequential(\n",
      "    (0): Linear(in_features=18, out_features=200, bias=True)\n",
      "    (1): ReLU(inplace=True)\n",
      "    (2): BatchNorm1d(200, eps=1e-05, momentum=0.1, affine=True, track_running_stats=True)\n",
      "    (3): Dropout(p=0.4, inplace=False)\n",
      "    (4): Linear(in_features=200, out_features=100, bias=True)\n",
      "    (5): ReLU(inplace=True)\n",
      "    (6): BatchNorm1d(100, eps=1e-05, momentum=0.1, affine=True, track_running_stats=True)\n",
      "    (7): Dropout(p=0.4, inplace=False)\n",
      "    (8): Linear(in_features=100, out_features=50, bias=True)\n",
      "    (9): ReLU(inplace=True)\n",
      "    (10): BatchNorm1d(50, eps=1e-05, momentum=0.1, affine=True, track_running_stats=True)\n",
      "    (11): Dropout(p=0.4, inplace=False)\n",
      "    (12): Linear(in_features=50, out_features=4, bias=True)\n",
      "  )\n",
      ")\n"
     ]
    }
   ],
   "source": [
    "hidden_layers = [200,100,50]\n",
    "model = Model(categorical_embedding_sizes, numerical_data.shape[1], 4, hidden_layers, p=0.4)\n",
    "print(model)"
   ]
  },
  {
   "cell_type": "code",
   "execution_count": 210,
   "metadata": {},
   "outputs": [
    {
     "name": "stdout",
     "output_type": "stream",
     "text": [
      "MPS device found.\n"
     ]
    }
   ],
   "source": [
    "if torch.backends.mps.is_available():\n",
    "    print (\"MPS device found.\")\n",
    "else:\n",
    "    print(\"MPS device not found.\")\n",
    "\n",
    "mps_device = torch.device(\"mps\" if torch.backends.mps.is_available() else \"cpu\")\n",
    "\n",
    "model.to(mps_device)\n",
    "categorical_train_data = categorical_train_data.to(mps_device)\n",
    "numerical_train_data = numerical_train_data.to(mps_device)\n",
    "categorical_test_data = categorical_test_data.to(mps_device)\n",
    "numerical_test_data = numerical_test_data.to(mps_device)\n",
    "train_label = train_label.to(mps_device)\n",
    "test_label = test_label.to(mps_device)  "
   ]
  },
  {
   "cell_type": "code",
   "execution_count": 211,
   "metadata": {},
   "outputs": [],
   "source": [
    "loss_function = nn.CrossEntropyLoss()\n",
    "optimizer = torch.optim.Adam(model.parameters(), lr=0.001)\n",
    "epochs = 300"
   ]
  },
  {
   "cell_type": "code",
   "execution_count": 212,
   "metadata": {},
   "outputs": [
    {
     "name": "stdout",
     "output_type": "stream",
     "text": [
      "epoch:   1 loss: 1.57070923\n",
      "epoch:  26 loss: 1.38983250\n",
      "epoch:  51 loss: 1.33824348\n",
      "epoch:  76 loss: 1.29204154\n",
      "epoch: 101 loss: 1.26308870\n",
      "epoch: 126 loss: 1.22606480\n",
      "epoch: 151 loss: 1.19639969\n",
      "epoch: 176 loss: 1.17212725\n",
      "epoch: 201 loss: 1.14855337\n",
      "epoch: 226 loss: 1.14391756\n",
      "epoch: 251 loss: 1.13060248\n",
      "epoch: 276 loss: 1.13973606\n",
      "epoch: 300 loss: 1.1283679008\n"
     ]
    },
    {
     "data": {
      "image/png": "[encoded data removed]",
      "text/plain": [
       "<Figure size 640x480 with 1 Axes>"
      ]
     },
     "metadata": {},
     "output_type": "display_data"
    }
   ],
   "source": [
    "aggregated_losses = []\n",
    "\n",
    "for i in range(epochs):\n",
    "    i += 1\n",
    "    pred = model(categorical_train_data, numerical_train_data)\n",
    "    single_loss = loss_function(pred, train_label)\n",
    "    aggregated_losses.append(single_loss)\n",
    "\n",
    "    if i%25 == 1:\n",
    "        print(f'epoch: {i:3} loss: {single_loss.item():10.8f}')\n",
    "\n",
    "    optimizer.zero_grad()\n",
    "    single_loss.backward()\n",
    "    optimizer.step()\n",
    "print(f'epoch: {i:3} loss: {single_loss.item():10.10f}')\n",
    "\n",
    "aggregated_losses_on_cpu = [tensor.detach().cpu() for tensor in aggregated_losses]\n",
    "plt.plot(range(epochs), aggregated_losses_on_cpu)\n",
    "plt.title('Training Loss Over Epochs')\n",
    "plt.xlabel('Epoch')\n",
    "plt.ylabel('Loss')\n",
    "plt.show()"
   ]
  },
  {
   "cell_type": "code",
   "execution_count": 213,
   "metadata": {},
   "outputs": [
    {
     "name": "stdout",
     "output_type": "stream",
     "text": [
      "Loss: 1.11138439\n"
     ]
    }
   ],
   "source": [
    "with torch.no_grad():\n",
    "    eval = model(categorical_test_data, numerical_test_data)\n",
    "    loss = loss_function(eval, test_label)\n",
    "print(f'Loss: {loss:.8f}')"
   ]
  },
  {
   "cell_type": "code",
   "execution_count": 214,
   "metadata": {},
   "outputs": [
    {
     "name": "stdout",
     "output_type": "stream",
     "text": [
      "tensor([[ 0.6069,  1.1795,  0.5981, -4.0613],\n",
      "        [ 0.7118,  0.8387,  1.1211, -3.1973],\n",
      "        [ 0.6270,  1.1304,  0.8440, -2.4254],\n",
      "        [ 0.5758,  0.5573,  0.4282,  0.0383],\n",
      "        [ 0.1543,  0.1995,  0.8045, -2.7376]], device='mps:0')\n",
      "tensor([1, 2, 1, 0, 2])\n"
     ]
    }
   ],
   "source": [
    "print(eval[:5])\n",
    "eval = np.argmax(eval.detach().cpu(), axis=1)\n",
    "print(eval[:5])"
   ]
  },
  {
   "cell_type": "code",
   "execution_count": 215,
   "metadata": {},
   "outputs": [
    {
     "name": "stdout",
     "output_type": "stream",
     "text": [
      "[[  5 109 199   0]\n",
      " [  4 111 177   2]\n",
      " [  2 142 407   1]\n",
      " [  0   3   9   0]]\n",
      "--------------------------------------------------------------------------------\n",
      "              precision    recall  f1-score   support\n",
      "\n",
      "           0       0.45      0.02      0.03       313\n",
      "           1       0.30      0.38      0.34       294\n",
      "           2       0.51      0.74      0.61       552\n",
      "           3       0.00      0.00      0.00        12\n",
      "\n",
      "    accuracy                           0.45      1171\n",
      "   macro avg       0.32      0.28      0.24      1171\n",
      "weighted avg       0.44      0.45      0.38      1171\n",
      "\n",
      "--------------------------------------------------------------------------------\n",
      "accuracy: 44.662681468830066 %\n"
     ]
    }
   ],
   "source": [
    "from sklearn.metrics import classification_report, confusion_matrix, accuracy_score\n",
    "test_label = test_label.detach().cpu()\n",
    "print(confusion_matrix(test_label,eval))\n",
    "print(\"--------------------------------------------------------------------------------\")\n",
    "print(classification_report(test_label,eval))\n",
    "print(\"--------------------------------------------------------------------------------\")\n",
    "print(f\"accuracy: {accuracy_score(test_label, eval)*100} %\")"
   ]
  }
 ],
 "metadata": {
  "kernelspec": {
   "display_name": ".venv",
   "language": "python",
   "name": "python3"
  },
  "language_info": {
   "codemirror_mode": {
    "name": "ipython",
    "version": 3
   },
   "file_extension": ".py",
   "mimetype": "text/x-python",
   "name": "python",
   "nbconvert_exporter": "python",
   "pygments_lexer": "ipython3",
   "version": "3.10.8"
  }
 },
 "nbformat": 4,
 "nbformat_minor": 2
}
