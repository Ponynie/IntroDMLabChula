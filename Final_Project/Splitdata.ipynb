{
 "cells": [
  {
   "cell_type": "code",
   "execution_count": 5,
   "metadata": {},
   "outputs": [],
   "source": [
    "import seaborn as sns\n",
    "import matplotlib.pyplot as plt\n",
    "import pandas as pd\n",
    "import numpy as np\n",
    "\n",
    "data = pd.read_csv('/Users/ponynie/Developer/Python_Code/IntroDMLabChula/Final_Project/original.csv')\n",
    "unseen = data.sample(n=100, random_state=12)\n",
    "data = data.drop(unseen.index)\n",
    "unseen.drop(['Anemia level', 'Anemia level.1'], axis=1, inplace=True)\n",
    "unseen.dropna(inplace=True)\n",
    "unseen = unseen[unseen['Currently residing with husband/partner'].isin(['Living with her', 'Staying elsewhere'])]\n",
    "unseen = unseen[unseen['Had fever in last two weeks'].isin(['No', 'Yes'])]\n",
    "unseen = unseen[unseen['Taking iron pills, sprinkles or syrup'].isin(['No', 'Yes'])]\n",
    "unseen.shape\n",
    "data.to_csv('/Users/ponynie/Developer/Python_Code/IntroDMLabChula/Final_Project/children anemia.csv', index=False)\n",
    "unseen.to_csv('/Users/ponynie/Developer/Python_Code/IntroDMLabChula/Final_Project/unseen.csv', index=False)"
   ]
  }
 ],
 "metadata": {
  "kernelspec": {
   "display_name": ".venv",
   "language": "python",
   "name": "python3"
  },
  "language_info": {
   "codemirror_mode": {
    "name": "ipython",
    "version": 3
   },
   "file_extension": ".py",
   "mimetype": "text/x-python",
   "name": "python",
   "nbconvert_exporter": "python",
   "pygments_lexer": "ipython3",
   "version": "3.10.8"
  }
 },
 "nbformat": 4,
 "nbformat_minor": 2
}
